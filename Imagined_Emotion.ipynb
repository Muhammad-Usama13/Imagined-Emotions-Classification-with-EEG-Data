{
  "cells": [
    {
      "cell_type": "code",
      "execution_count": null,
      "metadata": {
        "colab": {
          "base_uri": "https://localhost:8080/"
        },
        "id": "_1GyUSN64yje",
        "outputId": "dd18b771-d94e-45b5-b1f1-1a15ae569d14"
      },
      "outputs": [
        {
          "name": "stdout",
          "output_type": "stream",
          "text": [
            "Mounted at /content/drive\n"
          ]
        }
      ],
      "source": [
        "from google.colab import drive\n",
        "drive.mount('/content/drive')"
      ]
    },
    {
      "cell_type": "code",
      "execution_count": null,
      "metadata": {
        "id": "OspM4ZOLOZwV"
      },
      "outputs": [],
      "source": [
        "import os\n",
        "import scipy.io as sio\n",
        "from os.path import dirname, join as pjoin\n",
        "import matplotlib.pyplot as plt\n",
        "import numpy as np"
      ]
    },
    {
      "cell_type": "code",
      "execution_count": null,
      "metadata": {
        "id": "BXefHUlbOt5i"
      },
      "outputs": [],
      "source": [
        "emotions = ['Angry', 'Disgust','Fear','Happy','Sad','Surprise']"
      ]
    },
    {
      "cell_type": "code",
      "execution_count": null,
      "metadata": {
        "id": "dE09eAWLOwmA"
      },
      "outputs": [],
      "source": [
        "# DIR=r\"/content/drive/MyDrive/Colab(AI)/Imagined Emotions\"\n",
        "DIR=r\"/content/drive/MyDrive/Colab(AI)/Imagined Emotions\""
      ]
    },
    {
      "cell_type": "code",
      "execution_count": null,
      "metadata": {
        "id": "MS32SiwRSK_r"
      },
      "outputs": [],
      "source": [
        "labels=[]\n",
        "features=[]"
      ]
    },
    {
      "cell_type": "code",
      "execution_count": null,
      "metadata": {
        "id": "G0hpPa0hO3_V"
      },
      "outputs": [],
      "source": [
        "for signal in emotions:\n",
        "  path= os.path.join(DIR, signal)\n",
        "  label=emotions.index(signal)\n",
        "  for i in os.listdir(path):\n",
        "    sig_path= os.path.join(path, i)\n",
        "    sig_array=sio.loadmat(sig_path)\n",
        "    if sig_array is None:\n",
        "      continue\n",
        "    features.append(sig_array['s  '].transpose())\n",
        "    labels.append(label)"
      ]
    },
    {
      "cell_type": "code",
      "execution_count": null,
      "metadata": {
        "colab": {
          "base_uri": "https://localhost:8080/",
          "height": 424
        },
        "id": "vyDSzYsHO70k",
        "outputId": "158ea250-b633-4908-9734-0b1b5c0920e4"
      },
      "outputs": [
        {
          "data": {
            "text/html": [
              "\n",
              "  <div id=\"df-a6612280-4fe3-415c-97d5-78a15ddb363c\" class=\"colab-df-container\">\n",
              "    <div>\n",
              "<style scoped>\n",
              "    .dataframe tbody tr th:only-of-type {\n",
              "        vertical-align: middle;\n",
              "    }\n",
              "\n",
              "    .dataframe tbody tr th {\n",
              "        vertical-align: top;\n",
              "    }\n",
              "\n",
              "    .dataframe thead th {\n",
              "        text-align: right;\n",
              "    }\n",
              "</style>\n",
              "<table border=\"1\" class=\"dataframe\">\n",
              "  <thead>\n",
              "    <tr style=\"text-align: right;\">\n",
              "      <th></th>\n",
              "      <th>EEG</th>\n",
              "      <th>Labels</th>\n",
              "    </tr>\n",
              "  </thead>\n",
              "  <tbody>\n",
              "    <tr>\n",
              "      <th>0</th>\n",
              "      <td>[[0.5128205002818504, 1.5384615008437321, 7.38...</td>\n",
              "      <td>0</td>\n",
              "    </tr>\n",
              "    <tr>\n",
              "      <th>1</th>\n",
              "      <td>[[-1.5384615008480977, 1.0256410005644283, 14....</td>\n",
              "      <td>0</td>\n",
              "    </tr>\n",
              "    <tr>\n",
              "      <th>2</th>\n",
              "      <td>[[11.282051006161783, -1.5384615008457332, 2.2...</td>\n",
              "      <td>0</td>\n",
              "    </tr>\n",
              "    <tr>\n",
              "      <th>3</th>\n",
              "      <td>[[4.1025640022435255, 4.7179486025779624, -12....</td>\n",
              "      <td>0</td>\n",
              "    </tr>\n",
              "    <tr>\n",
              "      <th>4</th>\n",
              "      <td>[[5.641025503084165, 5.230769102858176, 8.6153...</td>\n",
              "      <td>0</td>\n",
              "    </tr>\n",
              "    <tr>\n",
              "      <th>...</th>\n",
              "      <td>...</td>\n",
              "      <td>...</td>\n",
              "    </tr>\n",
              "    <tr>\n",
              "      <th>35369</th>\n",
              "      <td>[[24.61538401346388, 141.2307657772266, 31.487...</td>\n",
              "      <td>5</td>\n",
              "    </tr>\n",
              "    <tr>\n",
              "      <th>35370</th>\n",
              "      <td>[[6.769230603707911, -385.743580310928, 7.4871...</td>\n",
              "      <td>5</td>\n",
              "    </tr>\n",
              "    <tr>\n",
              "      <th>35371</th>\n",
              "      <td>[[-14.769230408071962, -416.5128103277581, -10...</td>\n",
              "      <td>5</td>\n",
              "    </tr>\n",
              "    <tr>\n",
              "      <th>35372</th>\n",
              "      <td>[[3.692307602017536, -351.89742729241846, 7.99...</td>\n",
              "      <td>5</td>\n",
              "    </tr>\n",
              "    <tr>\n",
              "      <th>35373</th>\n",
              "      <td>[[14.358974007854158, -274.153839449914, 20.71...</td>\n",
              "      <td>5</td>\n",
              "    </tr>\n",
              "  </tbody>\n",
              "</table>\n",
              "<p>35374 rows × 2 columns</p>\n",
              "</div>\n",
              "    <div class=\"colab-df-buttons\">\n",
              "\n",
              "  <div class=\"colab-df-container\">\n",
              "    <button class=\"colab-df-convert\" onclick=\"convertToInteractive('df-a6612280-4fe3-415c-97d5-78a15ddb363c')\"\n",
              "            title=\"Convert this dataframe to an interactive table.\"\n",
              "            style=\"display:none;\">\n",
              "\n",
              "  <svg xmlns=\"http://www.w3.org/2000/svg\" height=\"24px\" viewBox=\"0 -960 960 960\">\n",
              "    <path d=\"M120-120v-720h720v720H120Zm60-500h600v-160H180v160Zm220 220h160v-160H400v160Zm0 220h160v-160H400v160ZM180-400h160v-160H180v160Zm440 0h160v-160H620v160ZM180-180h160v-160H180v160Zm440 0h160v-160H620v160Z\"/>\n",
              "  </svg>\n",
              "    </button>\n",
              "\n",
              "  <style>\n",
              "    .colab-df-container {\n",
              "      display:flex;\n",
              "      gap: 12px;\n",
              "    }\n",
              "\n",
              "    .colab-df-convert {\n",
              "      background-color: #E8F0FE;\n",
              "      border: none;\n",
              "      border-radius: 50%;\n",
              "      cursor: pointer;\n",
              "      display: none;\n",
              "      fill: #1967D2;\n",
              "      height: 32px;\n",
              "      padding: 0 0 0 0;\n",
              "      width: 32px;\n",
              "    }\n",
              "\n",
              "    .colab-df-convert:hover {\n",
              "      background-color: #E2EBFA;\n",
              "      box-shadow: 0px 1px 2px rgba(60, 64, 67, 0.3), 0px 1px 3px 1px rgba(60, 64, 67, 0.15);\n",
              "      fill: #174EA6;\n",
              "    }\n",
              "\n",
              "    .colab-df-buttons div {\n",
              "      margin-bottom: 4px;\n",
              "    }\n",
              "\n",
              "    [theme=dark] .colab-df-convert {\n",
              "      background-color: #3B4455;\n",
              "      fill: #D2E3FC;\n",
              "    }\n",
              "\n",
              "    [theme=dark] .colab-df-convert:hover {\n",
              "      background-color: #434B5C;\n",
              "      box-shadow: 0px 1px 3px 1px rgba(0, 0, 0, 0.15);\n",
              "      filter: drop-shadow(0px 1px 2px rgba(0, 0, 0, 0.3));\n",
              "      fill: #FFFFFF;\n",
              "    }\n",
              "  </style>\n",
              "\n",
              "    <script>\n",
              "      const buttonEl =\n",
              "        document.querySelector('#df-a6612280-4fe3-415c-97d5-78a15ddb363c button.colab-df-convert');\n",
              "      buttonEl.style.display =\n",
              "        google.colab.kernel.accessAllowed ? 'block' : 'none';\n",
              "\n",
              "      async function convertToInteractive(key) {\n",
              "        const element = document.querySelector('#df-a6612280-4fe3-415c-97d5-78a15ddb363c');\n",
              "        const dataTable =\n",
              "          await google.colab.kernel.invokeFunction('convertToInteractive',\n",
              "                                                    [key], {});\n",
              "        if (!dataTable) return;\n",
              "\n",
              "        const docLinkHtml = 'Like what you see? Visit the ' +\n",
              "          '<a target=\"_blank\" href=https://colab.research.google.com/notebooks/data_table.ipynb>data table notebook</a>'\n",
              "          + ' to learn more about interactive tables.';\n",
              "        element.innerHTML = '';\n",
              "        dataTable['output_type'] = 'display_data';\n",
              "        await google.colab.output.renderOutput(dataTable, element);\n",
              "        const docLink = document.createElement('div');\n",
              "        docLink.innerHTML = docLinkHtml;\n",
              "        element.appendChild(docLink);\n",
              "      }\n",
              "    </script>\n",
              "  </div>\n",
              "\n",
              "\n",
              "<div id=\"df-8cd5906e-9751-49b6-a2d5-ff2fc77442e0\">\n",
              "  <button class=\"colab-df-quickchart\" onclick=\"quickchart('df-8cd5906e-9751-49b6-a2d5-ff2fc77442e0')\"\n",
              "            title=\"Suggest charts\"\n",
              "            style=\"display:none;\">\n",
              "\n",
              "<svg xmlns=\"http://www.w3.org/2000/svg\" height=\"24px\"viewBox=\"0 0 24 24\"\n",
              "     width=\"24px\">\n",
              "    <g>\n",
              "        <path d=\"M19 3H5c-1.1 0-2 .9-2 2v14c0 1.1.9 2 2 2h14c1.1 0 2-.9 2-2V5c0-1.1-.9-2-2-2zM9 17H7v-7h2v7zm4 0h-2V7h2v10zm4 0h-2v-4h2v4z\"/>\n",
              "    </g>\n",
              "</svg>\n",
              "  </button>\n",
              "\n",
              "<style>\n",
              "  .colab-df-quickchart {\n",
              "      --bg-color: #E8F0FE;\n",
              "      --fill-color: #1967D2;\n",
              "      --hover-bg-color: #E2EBFA;\n",
              "      --hover-fill-color: #174EA6;\n",
              "      --disabled-fill-color: #AAA;\n",
              "      --disabled-bg-color: #DDD;\n",
              "  }\n",
              "\n",
              "  [theme=dark] .colab-df-quickchart {\n",
              "      --bg-color: #3B4455;\n",
              "      --fill-color: #D2E3FC;\n",
              "      --hover-bg-color: #434B5C;\n",
              "      --hover-fill-color: #FFFFFF;\n",
              "      --disabled-bg-color: #3B4455;\n",
              "      --disabled-fill-color: #666;\n",
              "  }\n",
              "\n",
              "  .colab-df-quickchart {\n",
              "    background-color: var(--bg-color);\n",
              "    border: none;\n",
              "    border-radius: 50%;\n",
              "    cursor: pointer;\n",
              "    display: none;\n",
              "    fill: var(--fill-color);\n",
              "    height: 32px;\n",
              "    padding: 0;\n",
              "    width: 32px;\n",
              "  }\n",
              "\n",
              "  .colab-df-quickchart:hover {\n",
              "    background-color: var(--hover-bg-color);\n",
              "    box-shadow: 0 1px 2px rgba(60, 64, 67, 0.3), 0 1px 3px 1px rgba(60, 64, 67, 0.15);\n",
              "    fill: var(--button-hover-fill-color);\n",
              "  }\n",
              "\n",
              "  .colab-df-quickchart-complete:disabled,\n",
              "  .colab-df-quickchart-complete:disabled:hover {\n",
              "    background-color: var(--disabled-bg-color);\n",
              "    fill: var(--disabled-fill-color);\n",
              "    box-shadow: none;\n",
              "  }\n",
              "\n",
              "  .colab-df-spinner {\n",
              "    border: 2px solid var(--fill-color);\n",
              "    border-color: transparent;\n",
              "    border-bottom-color: var(--fill-color);\n",
              "    animation:\n",
              "      spin 1s steps(1) infinite;\n",
              "  }\n",
              "\n",
              "  @keyframes spin {\n",
              "    0% {\n",
              "      border-color: transparent;\n",
              "      border-bottom-color: var(--fill-color);\n",
              "      border-left-color: var(--fill-color);\n",
              "    }\n",
              "    20% {\n",
              "      border-color: transparent;\n",
              "      border-left-color: var(--fill-color);\n",
              "      border-top-color: var(--fill-color);\n",
              "    }\n",
              "    30% {\n",
              "      border-color: transparent;\n",
              "      border-left-color: var(--fill-color);\n",
              "      border-top-color: var(--fill-color);\n",
              "      border-right-color: var(--fill-color);\n",
              "    }\n",
              "    40% {\n",
              "      border-color: transparent;\n",
              "      border-right-color: var(--fill-color);\n",
              "      border-top-color: var(--fill-color);\n",
              "    }\n",
              "    60% {\n",
              "      border-color: transparent;\n",
              "      border-right-color: var(--fill-color);\n",
              "    }\n",
              "    80% {\n",
              "      border-color: transparent;\n",
              "      border-right-color: var(--fill-color);\n",
              "      border-bottom-color: var(--fill-color);\n",
              "    }\n",
              "    90% {\n",
              "      border-color: transparent;\n",
              "      border-bottom-color: var(--fill-color);\n",
              "    }\n",
              "  }\n",
              "</style>\n",
              "\n",
              "  <script>\n",
              "    async function quickchart(key) {\n",
              "      const quickchartButtonEl =\n",
              "        document.querySelector('#' + key + ' button');\n",
              "      quickchartButtonEl.disabled = true;  // To prevent multiple clicks.\n",
              "      quickchartButtonEl.classList.add('colab-df-spinner');\n",
              "      try {\n",
              "        const charts = await google.colab.kernel.invokeFunction(\n",
              "            'suggestCharts', [key], {});\n",
              "      } catch (error) {\n",
              "        console.error('Error during call to suggestCharts:', error);\n",
              "      }\n",
              "      quickchartButtonEl.classList.remove('colab-df-spinner');\n",
              "      quickchartButtonEl.classList.add('colab-df-quickchart-complete');\n",
              "    }\n",
              "    (() => {\n",
              "      let quickchartButtonEl =\n",
              "        document.querySelector('#df-8cd5906e-9751-49b6-a2d5-ff2fc77442e0 button');\n",
              "      quickchartButtonEl.style.display =\n",
              "        google.colab.kernel.accessAllowed ? 'block' : 'none';\n",
              "    })();\n",
              "  </script>\n",
              "</div>\n",
              "    </div>\n",
              "  </div>\n"
            ],
            "text/plain": [
              "                                                     EEG  Labels\n",
              "0      [[0.5128205002818504, 1.5384615008437321, 7.38...       0\n",
              "1      [[-1.5384615008480977, 1.0256410005644283, 14....       0\n",
              "2      [[11.282051006161783, -1.5384615008457332, 2.2...       0\n",
              "3      [[4.1025640022435255, 4.7179486025779624, -12....       0\n",
              "4      [[5.641025503084165, 5.230769102858176, 8.6153...       0\n",
              "...                                                  ...     ...\n",
              "35369  [[24.61538401346388, 141.2307657772266, 31.487...       5\n",
              "35370  [[6.769230603707911, -385.743580310928, 7.4871...       5\n",
              "35371  [[-14.769230408071962, -416.5128103277581, -10...       5\n",
              "35372  [[3.692307602017536, -351.89742729241846, 7.99...       5\n",
              "35373  [[14.358974007854158, -274.153839449914, 20.71...       5\n",
              "\n",
              "[35374 rows x 2 columns]"
            ]
          },
          "execution_count": 7,
          "metadata": {},
          "output_type": "execute_result"
        }
      ],
      "source": [
        "import pandas as pd\n",
        "df = pd.DataFrame({\"EEG\":features,\"Labels\":labels})\n",
        "df"
      ]
    },
    {
      "cell_type": "code",
      "execution_count": null,
      "metadata": {
        "colab": {
          "base_uri": "https://localhost:8080/"
        },
        "id": "Ne8K9bKWO-mT",
        "outputId": "7482ec54-0e3f-4291-dcd8-b62e5d569280"
      },
      "outputs": [
        {
          "data": {
            "text/plain": [
              "(35374, 128, 14)"
            ]
          },
          "execution_count": 8,
          "metadata": {},
          "output_type": "execute_result"
        }
      ],
      "source": [
        "features=np.array(features)\n",
        "features.shape\n"
      ]
    },
    {
      "cell_type": "code",
      "execution_count": null,
      "metadata": {
        "colab": {
          "base_uri": "https://localhost:8080/"
        },
        "id": "tLnHYSeUPAbY",
        "outputId": "6765a1e8-b3d4-4501-e51f-73d89a3900ed"
      },
      "outputs": [
        {
          "data": {
            "text/plain": [
              "(35374,)"
            ]
          },
          "execution_count": 9,
          "metadata": {},
          "output_type": "execute_result"
        }
      ],
      "source": [
        "labels=np.array(labels)\n",
        "labels.shape\n"
      ]
    },
    {
      "cell_type": "code",
      "execution_count": null,
      "metadata": {
        "id": "8AHr78S3PCnM"
      },
      "outputs": [],
      "source": [
        "from sklearn.model_selection import train_test_split\n",
        "features_train, features_test, labels_train, labels_test = train_test_split(features, labels, test_size =0.25, random_state=42)"
      ]
    },
    {
      "cell_type": "code",
      "execution_count": null,
      "metadata": {
        "colab": {
          "base_uri": "https://localhost:8080/"
        },
        "id": "7xxZI_KXPEr1",
        "outputId": "d070a065-9d22-4372-a822-96319ea367dd"
      },
      "outputs": [
        {
          "name": "stdout",
          "output_type": "stream",
          "text": [
            "size of feature_train: (26530, 128, 14)\n",
            "size of feature_test: (8844, 128, 14)\n",
            "size of label_train: (26530,)\n",
            "size of label_test: (8844,)\n"
          ]
        }
      ],
      "source": [
        "print('size of feature_train:', features_train.shape)\n",
        "print('size of feature_test:', features_test.shape)\n",
        "print('size of label_train:', labels_train.shape)\n",
        "print('size of label_test:', labels_test.shape)"
      ]
    },
    {
      "cell_type": "code",
      "execution_count": null,
      "metadata": {
        "id": "Rs6QK4hOPHV5"
      },
      "outputs": [],
      "source": [
        "import tensorflow as tf\n",
        "import keras\n",
        "from keras.models import Sequential\n",
        "from keras.layers import Dense\n",
        "from keras import layers\n",
        "from keras import backend as K\n",
        "from keras.layers import Conv1D, Dropout, Flatten, BatchNormalization"
      ]
    },
    {
      "cell_type": "code",
      "execution_count": null,
      "metadata": {
        "id": "dXJ5XYXgPJGY"
      },
      "outputs": [],
      "source": [
        "def create_model():\n",
        "    input_layer = keras.Input(shape=(128,14))\n",
        "\n",
        "    x = layers.Conv1D(filters=1024, kernel_size=3, strides=2, activation=\"relu\", padding=\"same\")(input_layer)\n",
        "    x = layers.BatchNormalization()(x)\n",
        "\n",
        "    x = layers.Conv1D(filters=512, kernel_size=3, strides=2, activation=\"relu\", padding=\"same\")(x)\n",
        "    x = layers.BatchNormalization()(x)\n",
        "\n",
        "    x = layers.Conv1D(filters=256, kernel_size=5, strides=2, activation=\"relu\", padding=\"same\")(x)\n",
        "    x = layers.BatchNormalization()(x)\n",
        "\n",
        "    x = layers.Conv1D(filters=128, kernel_size=5, strides=2, activation=\"relu\", padding=\"same\")(x)\n",
        "    x = layers.BatchNormalization()(x)\n",
        "\n",
        "    x = layers.Conv1D(filters=64, kernel_size=7, strides=2, activation=\"relu\", padding=\"same\")(x)\n",
        "    x = layers.BatchNormalization()(x)\n",
        "\n",
        "    x = layers.Conv1D(filters=32, kernel_size=7, strides=2, activation=\"relu\", padding=\"same\")(x)\n",
        "    x = layers.BatchNormalization()(x)\n",
        "\n",
        "    x = layers.Dropout(0.2)(x)\n",
        "\n",
        "    x = layers.Flatten()(x)\n",
        "\n",
        "    x = layers.Dense(4096, activation=\"relu\")(x)\n",
        "    x = layers.Dropout(0.2)(x)\n",
        "\n",
        "    x = layers.Dense(2048, activation=\"relu\", kernel_regularizer=keras.regularizers.L2())(x)\n",
        "    x = layers.Dropout(0.2)(x)\n",
        "\n",
        "    x = layers.Dense(1024, activation=\"relu\", kernel_regularizer=keras.regularizers.L2())(x)\n",
        "    x = layers.Dropout(0.2)(x)\n",
        "    x = layers.Dense(128, activation=\"relu\", kernel_regularizer=keras.regularizers.L2())(x)\n",
        "    output_layer = layers.Dense(6, activation=\"softmax\")(x)\n",
        "\n",
        "\n",
        "    return keras.Model(inputs=input_layer, outputs=output_layer)\n"
      ]
    },
    {
      "cell_type": "code",
      "execution_count": null,
      "metadata": {
        "colab": {
          "base_uri": "https://localhost:8080/"
        },
        "id": "RzowHhvQPLEw",
        "outputId": "807c2e69-65c0-4524-8a9e-d6fe739a2e57"
      },
      "outputs": [
        {
          "name": "stdout",
          "output_type": "stream",
          "text": [
            "Model: \"model\"\n",
            "_________________________________________________________________\n",
            " Layer (type)                Output Shape              Param #   \n",
            "=================================================================\n",
            " input_1 (InputLayer)        [(None, 128, 14)]         0         \n",
            "                                                                 \n",
            " conv1d (Conv1D)             (None, 64, 1024)          44032     \n",
            "                                                                 \n",
            " batch_normalization (Batch  (None, 64, 1024)          4096      \n",
            " Normalization)                                                  \n",
            "                                                                 \n",
            " conv1d_1 (Conv1D)           (None, 32, 512)           1573376   \n",
            "                                                                 \n",
            " batch_normalization_1 (Bat  (None, 32, 512)           2048      \n",
            " chNormalization)                                                \n",
            "                                                                 \n",
            " conv1d_2 (Conv1D)           (None, 16, 256)           655616    \n",
            "                                                                 \n",
            " batch_normalization_2 (Bat  (None, 16, 256)           1024      \n",
            " chNormalization)                                                \n",
            "                                                                 \n",
            " conv1d_3 (Conv1D)           (None, 8, 128)            163968    \n",
            "                                                                 \n",
            " batch_normalization_3 (Bat  (None, 8, 128)            512       \n",
            " chNormalization)                                                \n",
            "                                                                 \n",
            " conv1d_4 (Conv1D)           (None, 4, 64)             57408     \n",
            "                                                                 \n",
            " batch_normalization_4 (Bat  (None, 4, 64)             256       \n",
            " chNormalization)                                                \n",
            "                                                                 \n",
            " conv1d_5 (Conv1D)           (None, 2, 32)             14368     \n",
            "                                                                 \n",
            " batch_normalization_5 (Bat  (None, 2, 32)             128       \n",
            " chNormalization)                                                \n",
            "                                                                 \n",
            " dropout (Dropout)           (None, 2, 32)             0         \n",
            "                                                                 \n",
            " flatten (Flatten)           (None, 64)                0         \n",
            "                                                                 \n",
            " dense (Dense)               (None, 4096)              266240    \n",
            "                                                                 \n",
            " dropout_1 (Dropout)         (None, 4096)              0         \n",
            "                                                                 \n",
            " dense_1 (Dense)             (None, 2048)              8390656   \n",
            "                                                                 \n",
            " dropout_2 (Dropout)         (None, 2048)              0         \n",
            "                                                                 \n",
            " dense_2 (Dense)             (None, 1024)              2098176   \n",
            "                                                                 \n",
            " dropout_3 (Dropout)         (None, 1024)              0         \n",
            "                                                                 \n",
            " dense_3 (Dense)             (None, 128)               131200    \n",
            "                                                                 \n",
            " dense_4 (Dense)             (None, 6)                 774       \n",
            "                                                                 \n",
            "=================================================================\n",
            "Total params: 13403878 (51.13 MB)\n",
            "Trainable params: 13399846 (51.12 MB)\n",
            "Non-trainable params: 4032 (15.75 KB)\n",
            "_________________________________________________________________\n",
            "None\n"
          ]
        }
      ],
      "source": [
        "conv_model = create_model()\n",
        "print(conv_model.summary())\n"
      ]
    },
    {
      "cell_type": "code",
      "execution_count": null,
      "metadata": {
        "id": "jLJBBGRWPN5a"
      },
      "outputs": [],
      "source": [
        "from numpy.ma.core import outer\n",
        "conv_model.compile(loss='sparse_categorical_crossentropy',optimizer='adam',metrics=['accuracy'])"
      ]
    },
    {
      "cell_type": "code",
      "execution_count": null,
      "metadata": {
        "colab": {
          "background_save": true,
          "base_uri": "https://localhost:8080/"
        },
        "id": "b7K_XRnGPQWQ",
        "outputId": "de95ea2c-290e-4c75-8676-1447406ecfb9"
      },
      "outputs": [
        {
          "name": "stdout",
          "output_type": "stream",
          "text": [
            "Epoch 1/35\n",
            "89/89 [==============================] - 350s 4s/step - loss: 7.3001 - accuracy: 0.2305 - val_loss: 1.8421 - val_accuracy: 0.2186\n",
            "Epoch 2/35\n",
            "89/89 [==============================] - 347s 4s/step - loss: 1.7444 - accuracy: 0.2712 - val_loss: 1.7238 - val_accuracy: 0.2815\n",
            "Epoch 3/35\n",
            "89/89 [==============================] - 347s 4s/step - loss: 1.6977 - accuracy: 0.2926 - val_loss: 1.6655 - val_accuracy: 0.3042\n",
            "Epoch 4/35\n",
            "89/89 [==============================] - 347s 4s/step - loss: 1.6484 - accuracy: 0.3194 - val_loss: 1.6155 - val_accuracy: 0.3291\n",
            "Epoch 5/35\n",
            "89/89 [==============================] - 346s 4s/step - loss: 1.5979 - accuracy: 0.3464 - val_loss: 1.5826 - val_accuracy: 0.3539\n",
            "Epoch 6/35\n",
            "89/89 [==============================] - 346s 4s/step - loss: 1.5449 - accuracy: 0.3763 - val_loss: 1.5938 - val_accuracy: 0.3622\n",
            "Epoch 7/35\n",
            "89/89 [==============================] - 344s 4s/step - loss: 1.4940 - accuracy: 0.4028 - val_loss: 1.5239 - val_accuracy: 0.3959\n",
            "Epoch 8/35\n",
            "89/89 [==============================] - 345s 4s/step - loss: 1.4275 - accuracy: 0.4351 - val_loss: 1.5073 - val_accuracy: 0.3998\n",
            "Epoch 9/35\n",
            "89/89 [==============================] - 345s 4s/step - loss: 1.3655 - accuracy: 0.4617 - val_loss: 1.4826 - val_accuracy: 0.4141\n",
            "Epoch 10/35\n",
            "89/89 [==============================] - 343s 4s/step - loss: 1.3129 - accuracy: 0.4891 - val_loss: 1.4973 - val_accuracy: 0.4302\n",
            "Epoch 11/35\n",
            "89/89 [==============================] - 345s 4s/step - loss: 1.2444 - accuracy: 0.5219 - val_loss: 1.4188 - val_accuracy: 0.4681\n",
            "Epoch 12/35\n",
            "89/89 [==============================] - 343s 4s/step - loss: 1.1739 - accuracy: 0.5505 - val_loss: 1.4204 - val_accuracy: 0.4798\n",
            "Epoch 13/35\n",
            "89/89 [==============================] - 345s 4s/step - loss: 1.1220 - accuracy: 0.5802 - val_loss: 1.4336 - val_accuracy: 0.4809\n",
            "Epoch 14/35\n",
            "89/89 [==============================] - 344s 4s/step - loss: 1.0478 - accuracy: 0.6065 - val_loss: 1.4028 - val_accuracy: 0.5003\n",
            "Epoch 15/35\n",
            "89/89 [==============================] - 343s 4s/step - loss: 0.9863 - accuracy: 0.6383 - val_loss: 1.4440 - val_accuracy: 0.5135\n",
            "Epoch 16/35\n",
            "89/89 [==============================] - 344s 4s/step - loss: 0.9453 - accuracy: 0.6632 - val_loss: 1.3870 - val_accuracy: 0.5252\n",
            "Epoch 17/35\n",
            "89/89 [==============================] - 344s 4s/step - loss: 0.8841 - accuracy: 0.6878 - val_loss: 1.4743 - val_accuracy: 0.5279\n",
            "Epoch 18/35\n",
            "89/89 [==============================] - 343s 4s/step - loss: 0.8319 - accuracy: 0.7082 - val_loss: 1.4348 - val_accuracy: 0.5392\n",
            "Epoch 19/35\n",
            "89/89 [==============================] - 344s 4s/step - loss: 0.7796 - accuracy: 0.7309 - val_loss: 1.4835 - val_accuracy: 0.5548\n",
            "Epoch 20/35\n",
            "89/89 [==============================] - 344s 4s/step - loss: 0.7332 - accuracy: 0.7489 - val_loss: 1.4384 - val_accuracy: 0.5582\n",
            "Epoch 21/35\n",
            "89/89 [==============================] - 345s 4s/step - loss: 0.6981 - accuracy: 0.7655 - val_loss: 1.4163 - val_accuracy: 0.5719\n",
            "Epoch 22/35\n",
            "89/89 [==============================] - 344s 4s/step - loss: 0.6419 - accuracy: 0.7876 - val_loss: 1.4756 - val_accuracy: 0.5723\n",
            "Epoch 23/35\n",
            "89/89 [==============================] - 351s 4s/step - loss: 0.6015 - accuracy: 0.8028 - val_loss: 1.5024 - val_accuracy: 0.5761\n",
            "Epoch 24/35\n",
            "89/89 [==============================] - 342s 4s/step - loss: 0.5740 - accuracy: 0.8163 - val_loss: 1.5547 - val_accuracy: 0.5753\n",
            "Epoch 25/35\n",
            "89/89 [==============================] - 344s 4s/step - loss: 0.5395 - accuracy: 0.8276 - val_loss: 1.5537 - val_accuracy: 0.5804\n",
            "Epoch 26/35\n",
            "89/89 [==============================] - 346s 4s/step - loss: 0.5145 - accuracy: 0.8372 - val_loss: 1.4923 - val_accuracy: 0.5970\n",
            "Epoch 27/35\n",
            "89/89 [==============================] - 342s 4s/step - loss: 0.4780 - accuracy: 0.8529 - val_loss: 1.5509 - val_accuracy: 0.5906\n",
            "Epoch 28/35\n",
            "89/89 [==============================] - 337s 4s/step - loss: 0.4499 - accuracy: 0.8614 - val_loss: 1.5707 - val_accuracy: 0.6001\n",
            "Epoch 29/35\n",
            "89/89 [==============================] - 344s 4s/step - loss: 0.4363 - accuracy: 0.8672 - val_loss: 1.5163 - val_accuracy: 0.5980\n",
            "Epoch 30/35\n",
            "89/89 [==============================] - 339s 4s/step - loss: 0.4089 - accuracy: 0.8777 - val_loss: 1.5578 - val_accuracy: 0.6081\n",
            "Epoch 31/35\n",
            "89/89 [==============================] - 342s 4s/step - loss: 0.3871 - accuracy: 0.8842 - val_loss: 1.6896 - val_accuracy: 0.5981\n",
            "Epoch 32/35\n",
            "89/89 [==============================] - 339s 4s/step - loss: 0.3741 - accuracy: 0.8924 - val_loss: 1.6043 - val_accuracy: 0.6000\n",
            "Epoch 33/35\n",
            "89/89 [==============================] - 341s 4s/step - loss: 0.3599 - accuracy: 0.8955 - val_loss: 1.6107 - val_accuracy: 0.6082\n",
            "Epoch 34/35\n",
            "89/89 [==============================] - 340s 4s/step - loss: 0.3540 - accuracy: 0.8963 - val_loss: 1.6646 - val_accuracy: 0.6121\n",
            "Epoch 35/35\n",
            "89/89 [==============================] - 338s 4s/step - loss: 0.3253 - accuracy: 0.9055 - val_loss: 1.6596 - val_accuracy: 0.6065\n"
          ]
        }
      ],
      "source": [
        "history = conv_model.fit(features_train, labels_train, batch_size=300,epochs=35,validation_data=(features_test,labels_test))"
      ]
    },
    {
      "cell_type": "code",
      "execution_count": null,
      "metadata": {
        "colab": {
          "background_save": true
        },
        "id": "F5bJl_GiPSE6",
        "outputId": "b7c02400-954b-4d9c-9a5b-2526fd59c6ed"
      },
      "outputs": [
        {
          "name": "stdout",
          "output_type": "stream",
          "text": [
            "277/277 [==============================] - 21s 76ms/step - loss: 1.6596 - accuracy: 0.6065\n"
          ]
        },
        {
          "data": {
            "text/plain": [
              "[1.6596249341964722, 0.6065129041671753]"
            ]
          },
          "execution_count": 17,
          "metadata": {},
          "output_type": "execute_result"
        }
      ],
      "source": [
        " conv_model.evaluate(features_test,labels_test)"
      ]
    },
    {
      "cell_type": "code",
      "execution_count": null,
      "metadata": {
        "colab": {
          "background_save": true
        },
        "id": "sLsD1KxXPT6a",
        "outputId": "b11279e3-6e05-481e-a8d1-fc1e917754e1"
      },
      "outputs": [
        {
          "data": {
            "image/png": "[encoded data removed]",
            "text/plain": [
              "<Figure size 640x480 with 1 Axes>"
            ]
          },
          "metadata": {},
          "output_type": "display_data"
        }
      ],
      "source": [
        "# Plot training and validation accuracy\n",
        "plt.plot(history.history['accuracy'])\n",
        "plt.plot(history.history['val_accuracy'])\n",
        "plt.title('Model Accuracy')\n",
        "plt.xlabel('Epoch')\n",
        "plt.ylabel('Accuracy')\n",
        "plt.legend(['Train', 'Validation'], loc='upper left')\n",
        "plt.show()"
      ]
    },
    {
      "cell_type": "code",
      "execution_count": null,
      "metadata": {
        "colab": {
          "background_save": true
        },
        "id": "GwvrmmrcPVqT",
        "outputId": "da424362-fec8-4306-be39-4543d7b5f3a5"
      },
      "outputs": [
        {
          "data": {
            "image/png": "[encoded data removed]",
            "text/plain": [
              "<Figure size 640x480 with 1 Axes>"
            ]
          },
          "metadata": {},
          "output_type": "display_data"
        }
      ],
      "source": [
        "#plot training and validation loss\n",
        "plt.plot(history.history['loss'])\n",
        "plt.plot(history.history['val_loss'])\n",
        "plt.title('Model Loss')\n",
        "plt.xlabel('Epoch')\n",
        "plt.ylabel('Loss')\n",
        "plt.legend(['Train', 'Validation'], loc='upper left')\n",
        "plt.show()"
      ]
    },
    {
      "cell_type": "code",
      "execution_count": null,
      "metadata": {
        "colab": {
          "background_save": true
        },
        "id": "xiGQ8Yr1PXta",
        "outputId": "35179b07-cbfd-429e-a42d-f837b05c6c3e"
      },
      "outputs": [
        {
          "name": "stdout",
          "output_type": "stream",
          "text": [
            "277/277 [==============================] - 21s 74ms/step\n"
          ]
        }
      ],
      "source": [
        "predictions = conv_model.predict(features_test)\n",
        "predicted_labels = np.argmax(predictions, axis=1)"
      ]
    },
    {
      "cell_type": "code",
      "execution_count": null,
      "metadata": {
        "colab": {
          "background_save": true
        },
        "id": "GokhE2opPZiK",
        "outputId": "6d4113ef-eaf3-4b34-97c8-5a9113e30456"
      },
      "outputs": [
        {
          "name": "stdout",
          "output_type": "stream",
          "text": [
            "277/277 [==============================] - 21s 76ms/step - loss: 1.6596 - accuracy: 0.6065\n",
            "Test Loss: 1.6596249341964722\n",
            "Test Accuracy: 0.6065129041671753\n"
          ]
        }
      ],
      "source": [
        "loss, accuracy = conv_model.evaluate(features_test, labels_test)\n",
        "print(\"Test Loss:\", loss)\n",
        "print(\"Test Accuracy:\", accuracy)"
      ]
    },
    {
      "cell_type": "code",
      "execution_count": null,
      "metadata": {
        "colab": {
          "background_save": true
        },
        "id": "ITRXevYETLGH"
      },
      "outputs": [],
      "source": []
    }
  ],
  "metadata": {
    "colab": {
      "provenance": []
    },
    "kernelspec": {
      "display_name": "Python 3",
      "name": "python3"
    },
    "language_info": {
      "name": "python"
    }
  },
  "nbformat": 4,
  "nbformat_minor": 0
}